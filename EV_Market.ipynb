{
 "cells": [
  {
   "cell_type": "code",
   "execution_count": 25,
   "id": "8657b3ed",
   "metadata": {},
   "outputs": [],
   "source": [
    "import pandas as pd\n",
    "import numpy as np\n",
    "import matplotlib.pyplot as plt\n",
    "import seaborn as sns\n"
   ]
  },
  {
   "cell_type": "code",
   "execution_count": 2,
   "id": "d714f2ae",
   "metadata": {},
   "outputs": [],
   "source": [
    "df1 = pd.read_csv('Cheapestelectriccars-EVDatabase.csv')\n",
    "df2 = pd.read_csv('ElectricCarData_Clean.csv')"
   ]
  },
  {
   "cell_type": "code",
   "execution_count": 3,
   "id": "fbc2ccde",
   "metadata": {},
   "outputs": [
    {
     "data": {
      "text/html": [
       "<div>\n",
       "<style scoped>\n",
       "    .dataframe tbody tr th:only-of-type {\n",
       "        vertical-align: middle;\n",
       "    }\n",
       "\n",
       "    .dataframe tbody tr th {\n",
       "        vertical-align: top;\n",
       "    }\n",
       "\n",
       "    .dataframe thead th {\n",
       "        text-align: right;\n",
       "    }\n",
       "</style>\n",
       "<table border=\"1\" class=\"dataframe\">\n",
       "  <thead>\n",
       "    <tr style=\"text-align: right;\">\n",
       "      <th></th>\n",
       "      <th>Name</th>\n",
       "      <th>Subtitle</th>\n",
       "      <th>Acceleration</th>\n",
       "      <th>TopSpeed</th>\n",
       "      <th>Range</th>\n",
       "      <th>Efficiency</th>\n",
       "      <th>FastChargeSpeed</th>\n",
       "      <th>Drive</th>\n",
       "      <th>NumberofSeats</th>\n",
       "      <th>PriceinGermany</th>\n",
       "      <th>PriceinUK</th>\n",
       "    </tr>\n",
       "  </thead>\n",
       "  <tbody>\n",
       "    <tr>\n",
       "      <th>0</th>\n",
       "      <td>Opel Ampera-e</td>\n",
       "      <td>Battery Electric Vehicle |       58 kWh</td>\n",
       "      <td>7.3 sec</td>\n",
       "      <td>150 km/h</td>\n",
       "      <td>335 km</td>\n",
       "      <td>173 Wh/km</td>\n",
       "      <td>210 km/h</td>\n",
       "      <td>Front Wheel Drive</td>\n",
       "      <td>5</td>\n",
       "      <td>€42,990</td>\n",
       "      <td>NaN</td>\n",
       "    </tr>\n",
       "    <tr>\n",
       "      <th>1</th>\n",
       "      <td>Renault Kangoo Maxi ZE 33</td>\n",
       "      <td>Battery Electric Vehicle |       31 kWh</td>\n",
       "      <td>22.4 sec</td>\n",
       "      <td>130 km/h</td>\n",
       "      <td>160 km</td>\n",
       "      <td>194 Wh/km</td>\n",
       "      <td>-</td>\n",
       "      <td>Front Wheel Drive</td>\n",
       "      <td>5</td>\n",
       "      <td>NaN</td>\n",
       "      <td>£31,680</td>\n",
       "    </tr>\n",
       "    <tr>\n",
       "      <th>2</th>\n",
       "      <td>Nissan Leaf</td>\n",
       "      <td>Battery Electric Vehicle |       36 kWh</td>\n",
       "      <td>7.9 sec</td>\n",
       "      <td>144 km/h</td>\n",
       "      <td>220 km</td>\n",
       "      <td>164 Wh/km</td>\n",
       "      <td>230 km/h</td>\n",
       "      <td>Front Wheel Drive</td>\n",
       "      <td>5</td>\n",
       "      <td>€29,990</td>\n",
       "      <td>£25,995</td>\n",
       "    </tr>\n",
       "    <tr>\n",
       "      <th>3</th>\n",
       "      <td>Audi e-tron Sportback 55 quattro</td>\n",
       "      <td>Battery Electric Vehicle |       86.5 kWh</td>\n",
       "      <td>5.7 sec</td>\n",
       "      <td>200 km/h</td>\n",
       "      <td>375 km</td>\n",
       "      <td>231 Wh/km</td>\n",
       "      <td>600 km/h</td>\n",
       "      <td>All Wheel Drive</td>\n",
       "      <td>5</td>\n",
       "      <td>NaN</td>\n",
       "      <td>£79,900</td>\n",
       "    </tr>\n",
       "    <tr>\n",
       "      <th>4</th>\n",
       "      <td>Porsche Taycan Turbo S</td>\n",
       "      <td>Battery Electric Vehicle |       83.7 kWh</td>\n",
       "      <td>2.8 sec</td>\n",
       "      <td>260 km/h</td>\n",
       "      <td>390 km</td>\n",
       "      <td>215 Wh/km</td>\n",
       "      <td>860 km/h</td>\n",
       "      <td>All Wheel Drive</td>\n",
       "      <td>4</td>\n",
       "      <td>€186,336</td>\n",
       "      <td>£138,830</td>\n",
       "    </tr>\n",
       "  </tbody>\n",
       "</table>\n",
       "</div>"
      ],
      "text/plain": [
       "                               Name  \\\n",
       "0                    Opel Ampera-e    \n",
       "1         Renault Kangoo Maxi ZE 33   \n",
       "2                      Nissan Leaf    \n",
       "3  Audi e-tron Sportback 55 quattro   \n",
       "4            Porsche Taycan Turbo S   \n",
       "\n",
       "                                    Subtitle Acceleration  TopSpeed   Range  \\\n",
       "0   Battery Electric Vehicle |       58 kWh       7.3 sec  150 km/h  335 km   \n",
       "1   Battery Electric Vehicle |       31 kWh      22.4 sec  130 km/h  160 km   \n",
       "2   Battery Electric Vehicle |       36 kWh       7.9 sec  144 km/h  220 km   \n",
       "3  Battery Electric Vehicle |       86.5 kWh      5.7 sec  200 km/h  375 km   \n",
       "4  Battery Electric Vehicle |       83.7 kWh      2.8 sec  260 km/h  390 km   \n",
       "\n",
       "  Efficiency FastChargeSpeed              Drive  NumberofSeats PriceinGermany  \\\n",
       "0  173 Wh/km        210 km/h  Front Wheel Drive              5        €42,990   \n",
       "1  194 Wh/km               -  Front Wheel Drive              5            NaN   \n",
       "2  164 Wh/km        230 km/h  Front Wheel Drive              5        €29,990   \n",
       "3  231 Wh/km        600 km/h    All Wheel Drive              5            NaN   \n",
       "4  215 Wh/km        860 km/h    All Wheel Drive              4       €186,336   \n",
       "\n",
       "  PriceinUK  \n",
       "0       NaN  \n",
       "1   £31,680  \n",
       "2   £25,995  \n",
       "3   £79,900  \n",
       "4  £138,830  "
      ]
     },
     "execution_count": 3,
     "metadata": {},
     "output_type": "execute_result"
    }
   ],
   "source": [
    "df1.head()"
   ]
  },
  {
   "cell_type": "code",
   "execution_count": 4,
   "id": "51468986",
   "metadata": {},
   "outputs": [
    {
     "data": {
      "text/html": [
       "<div>\n",
       "<style scoped>\n",
       "    .dataframe tbody tr th:only-of-type {\n",
       "        vertical-align: middle;\n",
       "    }\n",
       "\n",
       "    .dataframe tbody tr th {\n",
       "        vertical-align: top;\n",
       "    }\n",
       "\n",
       "    .dataframe thead th {\n",
       "        text-align: right;\n",
       "    }\n",
       "</style>\n",
       "<table border=\"1\" class=\"dataframe\">\n",
       "  <thead>\n",
       "    <tr style=\"text-align: right;\">\n",
       "      <th></th>\n",
       "      <th>Brand</th>\n",
       "      <th>Model</th>\n",
       "      <th>AccelSec</th>\n",
       "      <th>TopSpeed_KmH</th>\n",
       "      <th>Range_Km</th>\n",
       "      <th>Efficiency_WhKm</th>\n",
       "      <th>FastCharge_KmH</th>\n",
       "      <th>RapidCharge</th>\n",
       "      <th>PowerTrain</th>\n",
       "      <th>PlugType</th>\n",
       "      <th>BodyStyle</th>\n",
       "      <th>Segment</th>\n",
       "      <th>Seats</th>\n",
       "      <th>PriceEuro</th>\n",
       "    </tr>\n",
       "  </thead>\n",
       "  <tbody>\n",
       "    <tr>\n",
       "      <th>0</th>\n",
       "      <td>Tesla</td>\n",
       "      <td>Model 3 Long Range Dual Motor</td>\n",
       "      <td>4.6</td>\n",
       "      <td>233</td>\n",
       "      <td>450</td>\n",
       "      <td>161</td>\n",
       "      <td>940</td>\n",
       "      <td>Yes</td>\n",
       "      <td>AWD</td>\n",
       "      <td>Type 2 CCS</td>\n",
       "      <td>Sedan</td>\n",
       "      <td>D</td>\n",
       "      <td>5</td>\n",
       "      <td>55480</td>\n",
       "    </tr>\n",
       "    <tr>\n",
       "      <th>1</th>\n",
       "      <td>Volkswagen</td>\n",
       "      <td>ID.3 Pure</td>\n",
       "      <td>10.0</td>\n",
       "      <td>160</td>\n",
       "      <td>270</td>\n",
       "      <td>167</td>\n",
       "      <td>250</td>\n",
       "      <td>Yes</td>\n",
       "      <td>RWD</td>\n",
       "      <td>Type 2 CCS</td>\n",
       "      <td>Hatchback</td>\n",
       "      <td>C</td>\n",
       "      <td>5</td>\n",
       "      <td>30000</td>\n",
       "    </tr>\n",
       "    <tr>\n",
       "      <th>2</th>\n",
       "      <td>Polestar</td>\n",
       "      <td>2</td>\n",
       "      <td>4.7</td>\n",
       "      <td>210</td>\n",
       "      <td>400</td>\n",
       "      <td>181</td>\n",
       "      <td>620</td>\n",
       "      <td>Yes</td>\n",
       "      <td>AWD</td>\n",
       "      <td>Type 2 CCS</td>\n",
       "      <td>Liftback</td>\n",
       "      <td>D</td>\n",
       "      <td>5</td>\n",
       "      <td>56440</td>\n",
       "    </tr>\n",
       "    <tr>\n",
       "      <th>3</th>\n",
       "      <td>BMW</td>\n",
       "      <td>iX3</td>\n",
       "      <td>6.8</td>\n",
       "      <td>180</td>\n",
       "      <td>360</td>\n",
       "      <td>206</td>\n",
       "      <td>560</td>\n",
       "      <td>Yes</td>\n",
       "      <td>RWD</td>\n",
       "      <td>Type 2 CCS</td>\n",
       "      <td>SUV</td>\n",
       "      <td>D</td>\n",
       "      <td>5</td>\n",
       "      <td>68040</td>\n",
       "    </tr>\n",
       "    <tr>\n",
       "      <th>4</th>\n",
       "      <td>Honda</td>\n",
       "      <td>e</td>\n",
       "      <td>9.5</td>\n",
       "      <td>145</td>\n",
       "      <td>170</td>\n",
       "      <td>168</td>\n",
       "      <td>190</td>\n",
       "      <td>Yes</td>\n",
       "      <td>RWD</td>\n",
       "      <td>Type 2 CCS</td>\n",
       "      <td>Hatchback</td>\n",
       "      <td>B</td>\n",
       "      <td>4</td>\n",
       "      <td>32997</td>\n",
       "    </tr>\n",
       "  </tbody>\n",
       "</table>\n",
       "</div>"
      ],
      "text/plain": [
       "         Brand                          Model  AccelSec  TopSpeed_KmH  \\\n",
       "0       Tesla   Model 3 Long Range Dual Motor       4.6           233   \n",
       "1  Volkswagen                       ID.3 Pure      10.0           160   \n",
       "2    Polestar                               2       4.7           210   \n",
       "3         BMW                            iX3        6.8           180   \n",
       "4       Honda                              e        9.5           145   \n",
       "\n",
       "   Range_Km  Efficiency_WhKm FastCharge_KmH RapidCharge PowerTrain  \\\n",
       "0       450              161            940         Yes        AWD   \n",
       "1       270              167            250         Yes        RWD   \n",
       "2       400              181            620         Yes        AWD   \n",
       "3       360              206            560         Yes        RWD   \n",
       "4       170              168            190         Yes        RWD   \n",
       "\n",
       "     PlugType  BodyStyle Segment  Seats  PriceEuro  \n",
       "0  Type 2 CCS      Sedan       D      5      55480  \n",
       "1  Type 2 CCS  Hatchback       C      5      30000  \n",
       "2  Type 2 CCS   Liftback       D      5      56440  \n",
       "3  Type 2 CCS        SUV       D      5      68040  \n",
       "4  Type 2 CCS  Hatchback       B      4      32997  "
      ]
     },
     "execution_count": 4,
     "metadata": {},
     "output_type": "execute_result"
    }
   ],
   "source": [
    "df2.head()"
   ]
  },
  {
   "cell_type": "markdown",
   "id": "7eb4246b",
   "metadata": {},
   "source": [
    "Data pre-processing of df1"
   ]
  },
  {
   "cell_type": "code",
   "execution_count": 5,
   "id": "fcc46f6e",
   "metadata": {},
   "outputs": [
    {
     "data": {
      "text/plain": [
       "(180, 11)"
      ]
     },
     "execution_count": 5,
     "metadata": {},
     "output_type": "execute_result"
    }
   ],
   "source": [
    "df1.shape"
   ]
  },
  {
   "cell_type": "code",
   "execution_count": 6,
   "id": "bce86044",
   "metadata": {},
   "outputs": [
    {
     "data": {
      "text/plain": [
       "Name               False\n",
       "Subtitle           False\n",
       "Acceleration       False\n",
       "TopSpeed           False\n",
       "Range              False\n",
       "Efficiency         False\n",
       "FastChargeSpeed    False\n",
       "Drive              False\n",
       "NumberofSeats      False\n",
       "PriceinGermany      True\n",
       "PriceinUK           True\n",
       "dtype: bool"
      ]
     },
     "execution_count": 6,
     "metadata": {},
     "output_type": "execute_result"
    }
   ],
   "source": [
    "df1.isnull().any()"
   ]
  },
  {
   "cell_type": "markdown",
   "id": "18dc8352",
   "metadata": {},
   "source": [
    "No NULL values present in required columns of df1 <br> Now we drop the columns which are not required in df1"
   ]
  },
  {
   "cell_type": "code",
   "execution_count": 7,
   "id": "cb7473aa",
   "metadata": {},
   "outputs": [
    {
     "data": {
      "text/html": [
       "<div>\n",
       "<style scoped>\n",
       "    .dataframe tbody tr th:only-of-type {\n",
       "        vertical-align: middle;\n",
       "    }\n",
       "\n",
       "    .dataframe tbody tr th {\n",
       "        vertical-align: top;\n",
       "    }\n",
       "\n",
       "    .dataframe thead th {\n",
       "        text-align: right;\n",
       "    }\n",
       "</style>\n",
       "<table border=\"1\" class=\"dataframe\">\n",
       "  <thead>\n",
       "    <tr style=\"text-align: right;\">\n",
       "      <th></th>\n",
       "      <th>Name</th>\n",
       "      <th>Acceleration</th>\n",
       "      <th>TopSpeed</th>\n",
       "      <th>Range</th>\n",
       "      <th>Efficiency</th>\n",
       "      <th>NumberofSeats</th>\n",
       "    </tr>\n",
       "  </thead>\n",
       "  <tbody>\n",
       "    <tr>\n",
       "      <th>0</th>\n",
       "      <td>Opel Ampera-e</td>\n",
       "      <td>7.3 sec</td>\n",
       "      <td>150 km/h</td>\n",
       "      <td>335 km</td>\n",
       "      <td>173 Wh/km</td>\n",
       "      <td>5</td>\n",
       "    </tr>\n",
       "    <tr>\n",
       "      <th>1</th>\n",
       "      <td>Renault Kangoo Maxi ZE 33</td>\n",
       "      <td>22.4 sec</td>\n",
       "      <td>130 km/h</td>\n",
       "      <td>160 km</td>\n",
       "      <td>194 Wh/km</td>\n",
       "      <td>5</td>\n",
       "    </tr>\n",
       "    <tr>\n",
       "      <th>2</th>\n",
       "      <td>Nissan Leaf</td>\n",
       "      <td>7.9 sec</td>\n",
       "      <td>144 km/h</td>\n",
       "      <td>220 km</td>\n",
       "      <td>164 Wh/km</td>\n",
       "      <td>5</td>\n",
       "    </tr>\n",
       "    <tr>\n",
       "      <th>3</th>\n",
       "      <td>Audi e-tron Sportback 55 quattro</td>\n",
       "      <td>5.7 sec</td>\n",
       "      <td>200 km/h</td>\n",
       "      <td>375 km</td>\n",
       "      <td>231 Wh/km</td>\n",
       "      <td>5</td>\n",
       "    </tr>\n",
       "    <tr>\n",
       "      <th>4</th>\n",
       "      <td>Porsche Taycan Turbo S</td>\n",
       "      <td>2.8 sec</td>\n",
       "      <td>260 km/h</td>\n",
       "      <td>390 km</td>\n",
       "      <td>215 Wh/km</td>\n",
       "      <td>4</td>\n",
       "    </tr>\n",
       "  </tbody>\n",
       "</table>\n",
       "</div>"
      ],
      "text/plain": [
       "                               Name Acceleration  TopSpeed   Range Efficiency  \\\n",
       "0                    Opel Ampera-e       7.3 sec  150 km/h  335 km  173 Wh/km   \n",
       "1         Renault Kangoo Maxi ZE 33     22.4 sec  130 km/h  160 km  194 Wh/km   \n",
       "2                      Nissan Leaf       7.9 sec  144 km/h  220 km  164 Wh/km   \n",
       "3  Audi e-tron Sportback 55 quattro      5.7 sec  200 km/h  375 km  231 Wh/km   \n",
       "4            Porsche Taycan Turbo S      2.8 sec  260 km/h  390 km  215 Wh/km   \n",
       "\n",
       "   NumberofSeats  \n",
       "0              5  \n",
       "1              5  \n",
       "2              5  \n",
       "3              5  \n",
       "4              4  "
      ]
     },
     "execution_count": 7,
     "metadata": {},
     "output_type": "execute_result"
    }
   ],
   "source": [
    "df1=df1.drop('Subtitle',axis=1)\n",
    "df1=df1.drop('Drive',axis=1)\n",
    "df1=df1.drop('PriceinUK',axis=1)\n",
    "df1=df1.drop('PriceinGermany',axis=1)\n",
    "df1=df1.drop('FastChargeSpeed',axis=1)\n",
    "df1.head()"
   ]
  },
  {
   "cell_type": "code",
   "execution_count": 8,
   "id": "4258433c",
   "metadata": {},
   "outputs": [
    {
     "name": "stdout",
     "output_type": "stream",
     "text": [
      "<class 'pandas.core.frame.DataFrame'>\n",
      "RangeIndex: 180 entries, 0 to 179\n",
      "Data columns (total 6 columns):\n",
      " #   Column         Non-Null Count  Dtype \n",
      "---  ------         --------------  ----- \n",
      " 0   Name           180 non-null    object\n",
      " 1   Acceleration   180 non-null    object\n",
      " 2   TopSpeed       180 non-null    object\n",
      " 3   Range          180 non-null    object\n",
      " 4   Efficiency     180 non-null    object\n",
      " 5   NumberofSeats  180 non-null    int64 \n",
      "dtypes: int64(1), object(5)\n",
      "memory usage: 8.6+ KB\n"
     ]
    }
   ],
   "source": [
    "df1.info()"
   ]
  },
  {
   "cell_type": "markdown",
   "id": "7146325b",
   "metadata": {},
   "source": [
    "now we need to convert object datatype to int or float"
   ]
  },
  {
   "cell_type": "code",
   "execution_count": 9,
   "id": "ea308f73",
   "metadata": {},
   "outputs": [],
   "source": [
    "df1['Acceleration'] = df1['Acceleration'].str.replace('sec','')\n",
    "df1['Acceleration'] = df1['Acceleration'].astype(float)\n",
    "\n",
    "df1['TopSpeed'] = df1['TopSpeed'].str.replace('km/h','')\n",
    "df1['TopSpeed'] = df1['TopSpeed'].astype(int)\n",
    "\n",
    "df1['Range'] = df1['Range'].str.replace('km','')\n",
    "df1['Range'] = df1['Range'].astype(int)\n",
    "\n",
    "df1['Efficiency'] = df1['Efficiency'].str.replace('Wh/km','')\n",
    "df1['Efficiency'] = df1['Efficiency'].astype(int)\n"
   ]
  },
  {
   "cell_type": "code",
   "execution_count": 10,
   "id": "57fcaecc",
   "metadata": {},
   "outputs": [
    {
     "data": {
      "text/html": [
       "<div>\n",
       "<style scoped>\n",
       "    .dataframe tbody tr th:only-of-type {\n",
       "        vertical-align: middle;\n",
       "    }\n",
       "\n",
       "    .dataframe tbody tr th {\n",
       "        vertical-align: top;\n",
       "    }\n",
       "\n",
       "    .dataframe thead th {\n",
       "        text-align: right;\n",
       "    }\n",
       "</style>\n",
       "<table border=\"1\" class=\"dataframe\">\n",
       "  <thead>\n",
       "    <tr style=\"text-align: right;\">\n",
       "      <th></th>\n",
       "      <th>Name</th>\n",
       "      <th>Acceleration</th>\n",
       "      <th>TopSpeed</th>\n",
       "      <th>Range</th>\n",
       "      <th>Efficiency</th>\n",
       "      <th>NumberofSeats</th>\n",
       "    </tr>\n",
       "  </thead>\n",
       "  <tbody>\n",
       "    <tr>\n",
       "      <th>0</th>\n",
       "      <td>Opel Ampera-e</td>\n",
       "      <td>7.3</td>\n",
       "      <td>150</td>\n",
       "      <td>335</td>\n",
       "      <td>173</td>\n",
       "      <td>5</td>\n",
       "    </tr>\n",
       "    <tr>\n",
       "      <th>1</th>\n",
       "      <td>Renault Kangoo Maxi ZE 33</td>\n",
       "      <td>22.4</td>\n",
       "      <td>130</td>\n",
       "      <td>160</td>\n",
       "      <td>194</td>\n",
       "      <td>5</td>\n",
       "    </tr>\n",
       "    <tr>\n",
       "      <th>2</th>\n",
       "      <td>Nissan Leaf</td>\n",
       "      <td>7.9</td>\n",
       "      <td>144</td>\n",
       "      <td>220</td>\n",
       "      <td>164</td>\n",
       "      <td>5</td>\n",
       "    </tr>\n",
       "    <tr>\n",
       "      <th>3</th>\n",
       "      <td>Audi e-tron Sportback 55 quattro</td>\n",
       "      <td>5.7</td>\n",
       "      <td>200</td>\n",
       "      <td>375</td>\n",
       "      <td>231</td>\n",
       "      <td>5</td>\n",
       "    </tr>\n",
       "    <tr>\n",
       "      <th>4</th>\n",
       "      <td>Porsche Taycan Turbo S</td>\n",
       "      <td>2.8</td>\n",
       "      <td>260</td>\n",
       "      <td>390</td>\n",
       "      <td>215</td>\n",
       "      <td>4</td>\n",
       "    </tr>\n",
       "  </tbody>\n",
       "</table>\n",
       "</div>"
      ],
      "text/plain": [
       "                               Name  Acceleration  TopSpeed  Range  \\\n",
       "0                    Opel Ampera-e            7.3       150    335   \n",
       "1         Renault Kangoo Maxi ZE 33          22.4       130    160   \n",
       "2                      Nissan Leaf            7.9       144    220   \n",
       "3  Audi e-tron Sportback 55 quattro           5.7       200    375   \n",
       "4            Porsche Taycan Turbo S           2.8       260    390   \n",
       "\n",
       "   Efficiency  NumberofSeats  \n",
       "0         173              5  \n",
       "1         194              5  \n",
       "2         164              5  \n",
       "3         231              5  \n",
       "4         215              4  "
      ]
     },
     "execution_count": 10,
     "metadata": {},
     "output_type": "execute_result"
    }
   ],
   "source": [
    "df1.head()"
   ]
  },
  {
   "cell_type": "code",
   "execution_count": 11,
   "id": "71a81b54",
   "metadata": {},
   "outputs": [
    {
     "name": "stdout",
     "output_type": "stream",
     "text": [
      "<class 'pandas.core.frame.DataFrame'>\n",
      "RangeIndex: 180 entries, 0 to 179\n",
      "Data columns (total 6 columns):\n",
      " #   Column         Non-Null Count  Dtype  \n",
      "---  ------         --------------  -----  \n",
      " 0   Name           180 non-null    object \n",
      " 1   Acceleration   180 non-null    float64\n",
      " 2   TopSpeed       180 non-null    int32  \n",
      " 3   Range          180 non-null    int32  \n",
      " 4   Efficiency     180 non-null    int32  \n",
      " 5   NumberofSeats  180 non-null    int64  \n",
      "dtypes: float64(1), int32(3), int64(1), object(1)\n",
      "memory usage: 6.5+ KB\n"
     ]
    }
   ],
   "source": [
    "df1.info()"
   ]
  },
  {
   "cell_type": "code",
   "execution_count": 12,
   "id": "17fd0aaa",
   "metadata": {},
   "outputs": [
    {
     "data": {
      "text/html": [
       "<div>\n",
       "<style scoped>\n",
       "    .dataframe tbody tr th:only-of-type {\n",
       "        vertical-align: middle;\n",
       "    }\n",
       "\n",
       "    .dataframe tbody tr th {\n",
       "        vertical-align: top;\n",
       "    }\n",
       "\n",
       "    .dataframe thead th {\n",
       "        text-align: right;\n",
       "    }\n",
       "</style>\n",
       "<table border=\"1\" class=\"dataframe\">\n",
       "  <thead>\n",
       "    <tr style=\"text-align: right;\">\n",
       "      <th></th>\n",
       "      <th>Acceleration</th>\n",
       "      <th>TopSpeed</th>\n",
       "      <th>Range</th>\n",
       "      <th>Efficiency</th>\n",
       "      <th>NumberofSeats</th>\n",
       "    </tr>\n",
       "  </thead>\n",
       "  <tbody>\n",
       "    <tr>\n",
       "      <th>count</th>\n",
       "      <td>180.000000</td>\n",
       "      <td>180.000000</td>\n",
       "      <td>180.000000</td>\n",
       "      <td>180.000000</td>\n",
       "      <td>180.000000</td>\n",
       "    </tr>\n",
       "    <tr>\n",
       "      <th>mean</th>\n",
       "      <td>7.854444</td>\n",
       "      <td>176.400000</td>\n",
       "      <td>337.388889</td>\n",
       "      <td>194.272222</td>\n",
       "      <td>5.166667</td>\n",
       "    </tr>\n",
       "    <tr>\n",
       "      <th>std</th>\n",
       "      <td>3.169465</td>\n",
       "      <td>42.096006</td>\n",
       "      <td>118.718078</td>\n",
       "      <td>32.684001</td>\n",
       "      <td>0.971666</td>\n",
       "    </tr>\n",
       "    <tr>\n",
       "      <th>min</th>\n",
       "      <td>2.100000</td>\n",
       "      <td>123.000000</td>\n",
       "      <td>95.000000</td>\n",
       "      <td>104.000000</td>\n",
       "      <td>2.000000</td>\n",
       "    </tr>\n",
       "    <tr>\n",
       "      <th>25%</th>\n",
       "      <td>5.575000</td>\n",
       "      <td>150.000000</td>\n",
       "      <td>258.750000</td>\n",
       "      <td>168.000000</td>\n",
       "      <td>5.000000</td>\n",
       "    </tr>\n",
       "    <tr>\n",
       "      <th>50%</th>\n",
       "      <td>7.500000</td>\n",
       "      <td>160.000000</td>\n",
       "      <td>340.000000</td>\n",
       "      <td>188.500000</td>\n",
       "      <td>5.000000</td>\n",
       "    </tr>\n",
       "    <tr>\n",
       "      <th>75%</th>\n",
       "      <td>9.625000</td>\n",
       "      <td>200.000000</td>\n",
       "      <td>400.000000</td>\n",
       "      <td>215.250000</td>\n",
       "      <td>5.000000</td>\n",
       "    </tr>\n",
       "    <tr>\n",
       "      <th>max</th>\n",
       "      <td>22.400000</td>\n",
       "      <td>410.000000</td>\n",
       "      <td>970.000000</td>\n",
       "      <td>281.000000</td>\n",
       "      <td>7.000000</td>\n",
       "    </tr>\n",
       "  </tbody>\n",
       "</table>\n",
       "</div>"
      ],
      "text/plain": [
       "       Acceleration    TopSpeed       Range  Efficiency  NumberofSeats\n",
       "count    180.000000  180.000000  180.000000  180.000000     180.000000\n",
       "mean       7.854444  176.400000  337.388889  194.272222       5.166667\n",
       "std        3.169465   42.096006  118.718078   32.684001       0.971666\n",
       "min        2.100000  123.000000   95.000000  104.000000       2.000000\n",
       "25%        5.575000  150.000000  258.750000  168.000000       5.000000\n",
       "50%        7.500000  160.000000  340.000000  188.500000       5.000000\n",
       "75%        9.625000  200.000000  400.000000  215.250000       5.000000\n",
       "max       22.400000  410.000000  970.000000  281.000000       7.000000"
      ]
     },
     "execution_count": 12,
     "metadata": {},
     "output_type": "execute_result"
    }
   ],
   "source": [
    "df1.describe()"
   ]
  },
  {
   "cell_type": "code",
   "execution_count": 20,
   "id": "cda8a7ad",
   "metadata": {},
   "outputs": [
    {
     "data": {
      "text/plain": [
       "5    118\n",
       "7     32\n",
       "4     28\n",
       "2      2\n",
       "Name: NumberofSeats, dtype: int64"
      ]
     },
     "execution_count": 20,
     "metadata": {},
     "output_type": "execute_result"
    }
   ],
   "source": [
    "df1['NumberofSeats'].value_counts()"
   ]
  },
  {
   "cell_type": "markdown",
   "id": "4b88ba7d",
   "metadata": {},
   "source": [
    "**5 seat EV is the most commonly used.**"
   ]
  },
  {
   "cell_type": "code",
   "execution_count": 21,
   "id": "ac00d4f1",
   "metadata": {},
   "outputs": [
    {
     "data": {
      "text/plain": [
       "174"
      ]
     },
     "execution_count": 21,
     "metadata": {},
     "output_type": "execute_result"
    }
   ],
   "source": [
    "df1['Name'].nunique()"
   ]
  },
  {
   "cell_type": "markdown",
   "id": "5c833766",
   "metadata": {},
   "source": [
    "**Heatmap**"
   ]
  },
  {
   "cell_type": "code",
   "execution_count": 28,
   "id": "957d8ff0",
   "metadata": {},
   "outputs": [
    {
     "data": {
      "image/png": "[encoded data removed]",
      "text/plain": [
       "<Figure size 360x360 with 2 Axes>"
      ]
     },
     "metadata": {
      "needs_background": "light"
     },
     "output_type": "display_data"
    }
   ],
   "source": [
    "plt.figure(figsize=(5,5))\n",
    "sns.heatmap(df1.corr(), annot=True, cmap=\"YlGnBu\")\n",
    "plt.show()"
   ]
  },
  {
   "cell_type": "markdown",
   "id": "22ade439",
   "metadata": {},
   "source": [
    "**Countplot**"
   ]
  },
  {
   "cell_type": "code",
   "execution_count": 53,
   "id": "cbed7c8d",
   "metadata": {},
   "outputs": [
    {
     "data": {
      "image/png": "[encoded data removed]",
      "text/plain": [
       "<Figure size 1080x1440 with 1 Axes>"
      ]
     },
     "metadata": {},
     "output_type": "display_data"
    }
   ],
   "source": [
    "sns.set(rc={'figure.figsize':(15,20)})\n",
    "ax = sns.countplot(y=df1['Acceleration'], data=df1)\n",
    "ax.set(title='Accelerations') # title countplot\n",
    "\n",
    "# label each bar in countplot\n",
    "for p in ax.patches:\n",
    "    \n",
    "    height = p.get_height() # height of each horizontal bar is the same\n",
    "    width = p.get_width() # width (acceleration)\n",
    "\n",
    "    # adding text to each bar\n",
    "    ax.text(x = width+0.1, # x-coordinate position of data label, padded 0.1 to right of bar\n",
    "    y = p.get_y()+(height/2), # # y-coordinate position of data label, padded to be in the middle of the bar\n",
    "    s = '{:.0f}'.format(width), # data label, formatted to ignore decimals\n",
    "    va = 'center') # sets vertical alignment (va) to center\n"
   ]
  },
  {
   "cell_type": "code",
   "execution_count": 97,
   "id": "9913e4aa",
   "metadata": {},
   "outputs": [
    {
     "data": {
      "text/plain": [
       "[Text(0.5, 1.0, 'TopSpeed')]"
      ]
     },
     "execution_count": 97,
     "metadata": {},
     "output_type": "execute_result"
    },
    {
     "data": {
      "image/png": "[encoded data removed]",
      "text/plain": [
       "<Figure size 1080x360 with 1 Axes>"
      ]
     },
     "metadata": {},
     "output_type": "display_data"
    }
   ],
   "source": [
    "sns.set(rc={'figure.figsize':(15,5)})\n",
    "ax = sns.countplot(x=df1['TopSpeed'], data=df1)\n",
    "ax.set(title='TopSpeed') # title countplot"
   ]
  },
  {
   "cell_type": "code",
   "execution_count": null,
   "id": "af1ca543",
   "metadata": {},
   "outputs": [],
   "source": []
  }
 ],
 "metadata": {
  "kernelspec": {
   "display_name": "Python 3 (ipykernel)",
   "language": "python",
   "name": "python3"
  },
  "language_info": {
   "codemirror_mode": {
    "name": "ipython",
    "version": 3
   },
   "file_extension": ".py",
   "mimetype": "text/x-python",
   "name": "python",
   "nbconvert_exporter": "python",
   "pygments_lexer": "ipython3",
   "version": "3.9.7"
  }
 },
 "nbformat": 4,
 "nbformat_minor": 5
}
